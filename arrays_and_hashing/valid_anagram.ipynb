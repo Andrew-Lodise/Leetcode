{
 "cells": [
  {
   "cell_type": "markdown",
   "id": "0acfe56f-aa66-4d78-b56e-4d88185dfb5d",
   "metadata": {},
   "source": [
    "# Valid anagram"
   ]
  },
  {
   "cell_type": "markdown",
   "id": "bfe16770-5129-425b-b8ab-4c1fc85568ec",
   "metadata": {},
   "source": [
    "---"
   ]
  },
  {
   "cell_type": "markdown",
   "id": "aa008a52-7d15-47a9-9049-c4795a0d1a75",
   "metadata": {},
   "source": [
    "## Question"
   ]
  },
  {
   "cell_type": "raw",
   "id": "3700acb3-1f21-4fa9-b245-dd3b13face62",
   "metadata": {},
   "source": [
    "Given two strings s and t, return true if t is an anagram of s, and false otherwise.\n",
    "\n",
    "An Anagram is a word or phrase formed by rearranging the letters of a different word or phrase, typically using all the original letters exactly once."
   ]
  },
  {
   "cell_type": "markdown",
   "id": "b76b6476-494d-4be0-aba2-72281bf6eb4b",
   "metadata": {},
   "source": [
    "### example"
   ]
  },
  {
   "cell_type": "raw",
   "id": "935127c0-9243-4bfe-8f61-b6e53dfc7d32",
   "metadata": {},
   "source": [
    "Input: s = \"anagram\", t = \"nagaram\"\n",
    "Output: true"
   ]
  },
  {
   "cell_type": "raw",
   "id": "d49df5ba-7672-419e-bc72-d9b8a467298b",
   "metadata": {},
   "source": [
    "Input: s = \"rat\", t = \"car\"\n",
    "Output: false"
   ]
  },
  {
   "cell_type": "markdown",
   "id": "3ddb53a3-54c8-4a41-960d-117797373017",
   "metadata": {},
   "source": [
    "## Answer"
   ]
  },
  {
   "cell_type": "code",
   "execution_count": 1,
   "id": "bfd693ed-20df-40a3-8f93-1bd0cba445b8",
   "metadata": {},
   "outputs": [],
   "source": [
    "class Solution:\n",
    "    def isAnagram(self, s: str, t: str) -> bool:\n",
    "        sd = {}\n",
    "        td = {} # create two dictionaries\n",
    "        for letter in s:\n",
    "            if letter in sd:\n",
    "                sd[letter] += 1 #saving letter count in each\n",
    "            else:\n",
    "                sd[letter] = 1\n",
    "        \n",
    "        for letter in t:\n",
    "            if letter in td:\n",
    "                td[letter] += 1\n",
    "            else:\n",
    "                td[letter] = 1\n",
    "        \n",
    "        return (sd == td) #comparing dictionaries at the end"
   ]
  },
  {
   "cell_type": "markdown",
   "id": "6c24d0be-d1e6-4b1b-9bc0-ec13f40456e3",
   "metadata": {},
   "source": [
    "## Tests"
   ]
  },
  {
   "cell_type": "code",
   "execution_count": 3,
   "id": "ee3aa831-1afd-4539-b68b-7877095ca436",
   "metadata": {},
   "outputs": [
    {
     "data": {
      "text/plain": [
       "True"
      ]
     },
     "execution_count": 3,
     "metadata": {},
     "output_type": "execute_result"
    }
   ],
   "source": [
    "s = Solution()\n",
    "s.isAnagram(\"andrew\", \"werdna\")"
   ]
  },
  {
   "cell_type": "code",
   "execution_count": null,
   "id": "c415ce3f-11ff-4344-956f-8e79fd08263e",
   "metadata": {},
   "outputs": [],
   "source": [
    "s.isAnagram(\"cat\", \"dog\")"
   ]
  }
 ],
 "metadata": {
  "kernelspec": {
   "display_name": "Python 3 (ipykernel)",
   "language": "python",
   "name": "python3"
  },
  "language_info": {
   "codemirror_mode": {
    "name": "ipython",
    "version": 3
   },
   "file_extension": ".py",
   "mimetype": "text/x-python",
   "name": "python",
   "nbconvert_exporter": "python",
   "pygments_lexer": "ipython3",
   "version": "3.12.1"
  }
 },
 "nbformat": 4,
 "nbformat_minor": 5
}
