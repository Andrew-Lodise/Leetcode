{
 "cells": [
  {
   "cell_type": "markdown",
   "id": "17e8f058-7b27-4998-abf4-c8b8e50dad1a",
   "metadata": {},
   "source": [
    "# Two Sum"
   ]
  },
  {
   "cell_type": "markdown",
   "id": "248c5fc2-70ad-4d0b-9e0d-3a9bd6943347",
   "metadata": {},
   "source": [
    "---"
   ]
  },
  {
   "cell_type": "markdown",
   "id": "195751ef-4e2f-4045-9d1b-202020cef155",
   "metadata": {},
   "source": [
    "## Question"
   ]
  },
  {
   "cell_type": "raw",
   "id": "2dc62659-3c58-4558-82ad-e7af45ae3511",
   "metadata": {},
   "source": [
    "Given an array of integers nums and an integer target, return indices of the two numbers such that they add up to target.\n",
    "You may assume that each input would have exactly one solution, and you may not use the same element twice.\n",
    "You can return the answer in any order."
   ]
  },
  {
   "cell_type": "markdown",
   "id": "6bac13cf-252a-4324-ac9a-544fdbf65669",
   "metadata": {},
   "source": [
    "#### example"
   ]
  },
  {
   "cell_type": "raw",
   "id": "177a6373-37f7-4ca5-8c51-fe21d0347bea",
   "metadata": {},
   "source": [
    "Input: nums = [2,7,11,15], target = 9\n",
    "Output: [0,1]\n",
    "Explanation: Because nums[0] + nums[1] == 9, we return [0, 1]."
   ]
  },
  {
   "cell_type": "markdown",
   "id": "b380d4c1-1307-4a5d-ad3a-75a4b96d0651",
   "metadata": {},
   "source": [
    "## Answer"
   ]
  },
  {
   "cell_type": "code",
   "execution_count": 1,
   "id": "af6fccd7-d140-447f-898e-ade5f1569bed",
   "metadata": {},
   "outputs": [],
   "source": [
    "from typing import List # just needed for the \"List\" in the first line\n",
    "class Solution:\n",
    "    def twoSum(nums: List[int], target: List[int]) -> List[int]:\n",
    "        #create a dictionary\n",
    "        d = {}\n",
    "        #loop through enumerating the list     ex.) (i=0, n=8), (i=1, n=6) entries\n",
    "        for i, n in enumerate(nums):\n",
    "            # to get to target we need to find the difference between the current number and the target \n",
    "            remaining = target - n\n",
    "            # checking if the difference (would be a key because of how we are saving them) is in the dictionary\n",
    "            if remaining in d:\n",
    "                # if it is we are returining the current index and the value (index) of the remaining entry\n",
    "                return [i, d[remaining]]\n",
    "            # store the current variables into the dictionary as {\"n\", i}. the number being the key and the index the value\n",
    "            d[n] = i\n"
   ]
  },
  {
   "cell_type": "markdown",
   "id": "6c2c45c9-ab8f-49d7-8865-98c47441c24d",
   "metadata": {},
   "source": [
    "## Tests"
   ]
  },
  {
   "cell_type": "code",
   "execution_count": 2,
   "id": "fc3bf55c-12e7-431f-90fc-6a9fe4b9aa07",
   "metadata": {},
   "outputs": [
    {
     "name": "stdout",
     "output_type": "stream",
     "text": [
      "[1, 0]\n"
     ]
    }
   ],
   "source": [
    "print(Solution.twoSum([2, 7, 11, 15], 9))"
   ]
  },
  {
   "cell_type": "code",
   "execution_count": 3,
   "id": "7acb2c13-a361-4a60-a0cd-ee87f07026f2",
   "metadata": {},
   "outputs": [
    {
     "name": "stdout",
     "output_type": "stream",
     "text": [
      "[2, 1]\n"
     ]
    }
   ],
   "source": [
    "print(Solution.twoSum([3,2,4], 6))"
   ]
  },
  {
   "cell_type": "code",
   "execution_count": 4,
   "id": "1b177ff3-f4b8-4819-82bf-fa007df2c629",
   "metadata": {},
   "outputs": [
    {
     "name": "stdout",
     "output_type": "stream",
     "text": [
      "[1, 0]\n"
     ]
    }
   ],
   "source": [
    "print(Solution.twoSum([3,3], 6))"
   ]
  }
 ],
 "metadata": {
  "kernelspec": {
   "display_name": "Python 3 (ipykernel)",
   "language": "python",
   "name": "python3"
  },
  "language_info": {
   "codemirror_mode": {
    "name": "ipython",
    "version": 3
   },
   "file_extension": ".py",
   "mimetype": "text/x-python",
   "name": "python",
   "nbconvert_exporter": "python",
   "pygments_lexer": "ipython3",
   "version": "3.12.1"
  }
 },
 "nbformat": 4,
 "nbformat_minor": 5
}
