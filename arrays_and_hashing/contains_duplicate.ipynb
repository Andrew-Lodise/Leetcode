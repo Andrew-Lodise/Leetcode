{
 "cells": [
  {
   "cell_type": "markdown",
   "id": "0acfe56f-aa66-4d78-b56e-4d88185dfb5d",
   "metadata": {},
   "source": [
    "# Contains duplicate"
   ]
  },
  {
   "cell_type": "markdown",
   "id": "bfe16770-5129-425b-b8ab-4c1fc85568ec",
   "metadata": {},
   "source": [
    "---"
   ]
  },
  {
   "cell_type": "markdown",
   "id": "aa008a52-7d15-47a9-9049-c4795a0d1a75",
   "metadata": {},
   "source": [
    "## Question"
   ]
  },
  {
   "cell_type": "raw",
   "id": "3700acb3-1f21-4fa9-b245-dd3b13face62",
   "metadata": {},
   "source": [
    "Given an integer array nums, return true if any value appears at least twice in the array, and return false if every element is distinct."
   ]
  },
  {
   "cell_type": "markdown",
   "id": "b76b6476-494d-4be0-aba2-72281bf6eb4b",
   "metadata": {},
   "source": [
    "### example"
   ]
  },
  {
   "cell_type": "raw",
   "id": "935127c0-9243-4bfe-8f61-b6e53dfc7d32",
   "metadata": {},
   "source": [
    "Input: nums = [1,2,3,1]\n",
    "Output: true"
   ]
  },
  {
   "cell_type": "raw",
   "id": "624542fd-d715-4746-a3da-268a0ab117c6",
   "metadata": {},
   "source": [
    "Input: nums = [1,2,3,4]\n",
    "Output: false"
   ]
  },
  {
   "cell_type": "markdown",
   "id": "3ddb53a3-54c8-4a41-960d-117797373017",
   "metadata": {},
   "source": [
    "## Answer"
   ]
  },
  {
   "cell_type": "code",
   "execution_count": 1,
   "id": "bfd693ed-20df-40a3-8f93-1bd0cba445b8",
   "metadata": {},
   "outputs": [],
   "source": [
    "from typing import List\n",
    "class Solution:\n",
    "    def containsDuplicate(self, nums: List[int]) -> bool:\n",
    "        # uses a set which is a collection that doesn't repeat, but could really use any data structure \n",
    "        hashset = set()\n",
    "        # loops through the list\n",
    "        for n in nums:\n",
    "            if n in hashset: # checks if number is already in list\n",
    "                return True # if it is that means theres a duplicate\n",
    "            hashset.add(n) #unless it's aleady in the set we add the number to the set\n",
    "        return False"
   ]
  },
  {
   "cell_type": "markdown",
   "id": "6c24d0be-d1e6-4b1b-9bc0-ec13f40456e3",
   "metadata": {},
   "source": [
    "## Tests"
   ]
  },
  {
   "cell_type": "code",
   "execution_count": 2,
   "id": "ee3aa831-1afd-4539-b68b-7877095ca436",
   "metadata": {},
   "outputs": [
    {
     "data": {
      "text/plain": [
       "True"
      ]
     },
     "execution_count": 2,
     "metadata": {},
     "output_type": "execute_result"
    }
   ],
   "source": [
    "s = Solution()\n",
    "s.containsDuplicate([1,2,3,4,4])"
   ]
  },
  {
   "cell_type": "code",
   "execution_count": 3,
   "id": "af2a3a5a-5a4f-4a46-b17e-0c057c1abfd2",
   "metadata": {},
   "outputs": [
    {
     "data": {
      "text/plain": [
       "False"
      ]
     },
     "execution_count": 3,
     "metadata": {},
     "output_type": "execute_result"
    }
   ],
   "source": [
    "s = Solution()\n",
    "s.containsDuplicate([1,2,3,4])"
   ]
  }
 ],
 "metadata": {
  "kernelspec": {
   "display_name": "Python 3 (ipykernel)",
   "language": "python",
   "name": "python3"
  },
  "language_info": {
   "codemirror_mode": {
    "name": "ipython",
    "version": 3
   },
   "file_extension": ".py",
   "mimetype": "text/x-python",
   "name": "python",
   "nbconvert_exporter": "python",
   "pygments_lexer": "ipython3",
   "version": "3.12.1"
  }
 },
 "nbformat": 4,
 "nbformat_minor": 5
}
