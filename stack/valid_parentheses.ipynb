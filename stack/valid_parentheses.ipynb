{
 "cells": [
  {
   "cell_type": "markdown",
   "id": "0acfe56f-aa66-4d78-b56e-4d88185dfb5d",
   "metadata": {},
   "source": [
    "# Valid parentheses"
   ]
  },
  {
   "cell_type": "markdown",
   "id": "bfe16770-5129-425b-b8ab-4c1fc85568ec",
   "metadata": {},
   "source": [
    "---"
   ]
  },
  {
   "cell_type": "markdown",
   "id": "aa008a52-7d15-47a9-9049-c4795a0d1a75",
   "metadata": {},
   "source": [
    "## Question"
   ]
  },
  {
   "cell_type": "raw",
   "id": "3700acb3-1f21-4fa9-b245-dd3b13face62",
   "metadata": {},
   "source": [
    "Given a string s containing just the characters '(', ')', '{', '}', '[' and ']', determine if the input string is valid.\n",
    "\n",
    "An input string is valid if:\n",
    "\n",
    "Open brackets must be closed by the same type of brackets.\n",
    "Open brackets must be closed in the correct order.\n",
    "Every close bracket has a corresponding open bracket of the same type"
   ]
  },
  {
   "cell_type": "markdown",
   "id": "b76b6476-494d-4be0-aba2-72281bf6eb4b",
   "metadata": {},
   "source": [
    "### examples"
   ]
  },
  {
   "cell_type": "raw",
   "id": "935127c0-9243-4bfe-8f61-b6e53dfc7d32",
   "metadata": {},
   "source": [
    "Example 1:\n",
    "Input: s = \"()\"\n",
    "Output: true\n",
    "\n",
    "Example 2:\n",
    "Input: s = \"()[]{}\"\n",
    "Output: true\n",
    "\n",
    "Example 3:\n",
    "Input: s = \"(]\"\n",
    "Output: false"
   ]
  },
  {
   "cell_type": "markdown",
   "id": "3ddb53a3-54c8-4a41-960d-117797373017",
   "metadata": {},
   "source": [
    "## Answer"
   ]
  },
  {
   "cell_type": "code",
   "execution_count": 9,
   "id": "bfd693ed-20df-40a3-8f93-1bd0cba445b8",
   "metadata": {},
   "outputs": [],
   "source": [
    "class Solution:\n",
    "    def isValid(self, s: str) -> bool:\n",
    "        '''\n",
    "        first set up a dictionary so that each open\n",
    "        paren is matched with its corresponding closed\n",
    "        paren\n",
    "        '''\n",
    "        parens = {\"(\":\")\",\n",
    "                  \"[\":\"]\",\n",
    "                  \"{\":\"}\"}\n",
    "        \n",
    "        #set up a stack\n",
    "        stack = []\n",
    "\n",
    "        for c in s:\n",
    "            if c in parens: # open parens\n",
    "                stack.append(c) \n",
    "\n",
    "            '''\n",
    "            for closing parens ..\n",
    "            check if stack isn't empty already\n",
    "            and check if the closing paren is the same\n",
    "            as the last open paren on the stack\n",
    "            if it is we pop that off the stack\n",
    "            otherwise we know its invalid.\n",
    "            '''\n",
    "            if c not in parens: \n",
    "                if stack and (parens[stack[-1]]) == c:\n",
    "                    stack.pop()\n",
    "                else:\n",
    "                    return False\n",
    "                \n",
    "        if not stack: # if stack is empty\n",
    "            return True\n",
    "        else:\n",
    "            return False"
   ]
  },
  {
   "cell_type": "markdown",
   "id": "6c24d0be-d1e6-4b1b-9bc0-ec13f40456e3",
   "metadata": {},
   "source": [
    "## Tests"
   ]
  },
  {
   "cell_type": "code",
   "execution_count": 10,
   "id": "ee3aa831-1afd-4539-b68b-7877095ca436",
   "metadata": {},
   "outputs": [
    {
     "data": {
      "text/plain": [
       "True"
      ]
     },
     "execution_count": 10,
     "metadata": {},
     "output_type": "execute_result"
    }
   ],
   "source": [
    "s = Solution()\n",
    "s.isValid(\"()\")"
   ]
  },
  {
   "cell_type": "code",
   "execution_count": 11,
   "id": "04c52c06",
   "metadata": {},
   "outputs": [
    {
     "data": {
      "text/plain": [
       "True"
      ]
     },
     "execution_count": 11,
     "metadata": {},
     "output_type": "execute_result"
    }
   ],
   "source": [
    "s.isValid(\"()[]{}\")"
   ]
  },
  {
   "cell_type": "code",
   "execution_count": 12,
   "id": "9adea58c",
   "metadata": {},
   "outputs": [
    {
     "data": {
      "text/plain": [
       "False"
      ]
     },
     "execution_count": 12,
     "metadata": {},
     "output_type": "execute_result"
    }
   ],
   "source": [
    "s.isValid(\"(]\")"
   ]
  },
  {
   "cell_type": "code",
   "execution_count": null,
   "id": "e57cfb6d",
   "metadata": {},
   "outputs": [],
   "source": []
  }
 ],
 "metadata": {
  "kernelspec": {
   "display_name": "Python 3 (ipykernel)",
   "language": "python",
   "name": "python3"
  },
  "language_info": {
   "codemirror_mode": {
    "name": "ipython",
    "version": 3
   },
   "file_extension": ".py",
   "mimetype": "text/x-python",
   "name": "python",
   "nbconvert_exporter": "python",
   "pygments_lexer": "ipython3",
   "version": "3.11.4"
  }
 },
 "nbformat": 4,
 "nbformat_minor": 5
}
